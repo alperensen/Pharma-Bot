{
 "cells": [
  {
   "cell_type": "code",
   "execution_count": 1,
   "id": "c5e102e9-b040-4437-96e9-7b437bcc2e77",
   "metadata": {},
   "outputs": [],
   "source": [
    "import pandas as pd"
   ]
  },
  {
   "cell_type": "code",
   "execution_count": 14,
   "id": "cf04fd00-1f5d-410a-bbbf-117f1a5b84d1",
   "metadata": {},
   "outputs": [
    {
     "name": "stdout",
     "output_type": "stream",
     "text": [
      "✅ JSON file successfully loaded into a DataFrame.\n"
     ]
    }
   ],
   "source": [
    "# Define the filename you used in your download script\n",
    "filename = \"label_drug.json\"\n",
    "\n",
    "# Load the JSON file directly into a pandas DataFrame\n",
    "try:\n",
    "    label_df= pd.read_json(\"label_drug.json\")\n",
    "    event_df= pd.read_json(\"event_drug.json\")\n",
    "    print(\"✅ JSON file successfully loaded into a DataFrame.\")\n",
    "\n",
    "except FileNotFoundError:\n",
    "    print(f\"❌ Error: The file '{filename}' was not found. Please make sure it's in the correct directory.\")\n",
    "except Exception as e:\n",
    "    print(f\"An error occurred: {e}\")"
   ]
  },
  {
   "cell_type": "code",
   "execution_count": 15,
   "id": "6f589bcf-772d-478b-a620-558fb5fcee5e",
   "metadata": {
    "collapsed": true,
    "jupyter": {
     "outputs_hidden": true
    }
   },
   "outputs": [
    {
     "name": "stdout",
     "output_type": "stream",
     "text": [
      "\n",
      "First 5 rows of the Label:\n",
      "   effective_time                                inactive_ingredient  \\\n",
      "0        20210902                     [INACTIVE INGREDIENTS Sucrose]   \n",
      "1        20150109  [INGREDIENTS: TALC, POLYMETHYL METHACRYLATE, V...   \n",
      "2        20250102  [Inactive ingredients pareth 25-9, purified wa...   \n",
      "3        20230802             [INACTIVE INGREDIENTS Sucrose/Lactose]   \n",
      "4        20230905                                                NaN   \n",
      "\n",
      "                                             purpose  \\\n",
      "0  [USES USES: Temporary Relief - Acne, Boils* * ...   \n",
      "1                                [Purpose Sunscreen]   \n",
      "2                     [Purpose First aid Antiseptic]   \n",
      "3         [USES To relieve the symptoms of itching.]   \n",
      "4                                                NaN   \n",
      "\n",
      "                       keep_out_of_reach_of_children  \\\n",
      "0  [Keep this and all medication out of reach of ...   \n",
      "1  [Keep out of reach of children If product is s...   \n",
      "2  [Keep out of reach of children If swallowed, g...   \n",
      "3  [KEEP OUT OF REACH OF CHILDREN Keep this and a...   \n",
      "4                                                NaN   \n",
      "\n",
      "                                            warnings  \\\n",
      "0  [WARNINGS This product is to be used for self-...   \n",
      "1                  [Warnings For external use only.]   \n",
      "2                   [Warnings For external use only]   \n",
      "3  [STOP USE AND ASK DOCTOR If symptoms persist/w...   \n",
      "4  [WARNINGS NOT FOR INJECTION. Ofloxacin ophthal...   \n",
      "\n",
      "                                           questions  \\\n",
      "0  [QUESTIONS OR COMMENTS www.Rxhomeo.com | 1.888...   \n",
      "1                                                NaN   \n",
      "2                                                NaN   \n",
      "3                                                NaN   \n",
      "4                                                NaN   \n",
      "\n",
      "                           spl_product_data_elements  \\\n",
      "0  [SILICEA SILICEA SUCROSE SILICON DIOXIDE SILIC...   \n",
      "1  [CHANTECAILLE PROTECTION NATURELLE BRONZE SPF ...   \n",
      "2  [Betadine POVIDONE-IODINE POVIDONE-IODINE IODI...   \n",
      "3  [Mezereum DAPHNE MEZEREUM BARK SUCROSE LACTOSE...   \n",
      "4  [Ofloxacin Ofloxacin OFLOXACIN OFLOXACIN Sodiu...   \n",
      "\n",
      "                                             openfda  version  \\\n",
      "0  {'brand_name': ['SILICEA'], 'generic_name': ['...        2   \n",
      "1                                                 {}        4   \n",
      "2  {'application_number': ['M003'], 'brand_name':...        1   \n",
      "3                                                 {}        3   \n",
      "4                                                 {}        7   \n",
      "\n",
      "                           dosage_and_administration  ... when_using_table  \\\n",
      "0  [DOSAGE Adults- Take 4 or 6 Pellets by mouth, ...  ...              NaN   \n",
      "1  [Directions Protection Naturelle SPF 46 PA+++ ...  ...              NaN   \n",
      "2  [Directions clean the affected area spray a sm...  ...              NaN   \n",
      "3  [DIRECTIONS Adults: Dissolve 3 to 5 under the ...  ...              NaN   \n",
      "4  [DOSAGE AND ADMINISTRATION The recommended dos...  ...              NaN   \n",
      "\n",
      "  ask_doctor_or_pharmacist_table do_not_use_table questions_table  \\\n",
      "0                            NaN              NaN             NaN   \n",
      "1                            NaN              NaN             NaN   \n",
      "2                            NaN              NaN             NaN   \n",
      "3                            NaN              NaN             NaN   \n",
      "4                            NaN              NaN             NaN   \n",
      "\n",
      "  disposal_and_waste_handling veterinary_indications stop_use_table  \\\n",
      "0                         NaN                    NaN            NaN   \n",
      "1                         NaN                    NaN            NaN   \n",
      "2                         NaN                    NaN            NaN   \n",
      "3                         NaN                    NaN            NaN   \n",
      "4                         NaN                    NaN            NaN   \n",
      "\n",
      "  abuse_table overdosage_table statement_of_identity_table  \n",
      "0         NaN              NaN                         NaN  \n",
      "1         NaN              NaN                         NaN  \n",
      "2         NaN              NaN                         NaN  \n",
      "3         NaN              NaN                         NaN  \n",
      "4         NaN              NaN                         NaN  \n",
      "\n",
      "[5 rows x 128 columns]\n"
     ]
    }
   ],
   "source": [
    "# Display the first 5 rows to verify the data\n",
    "print(\"\\nFirst 5 rows of the Label:\")\n",
    "print(label_df.head())"
   ]
  },
  {
   "cell_type": "code",
   "execution_count": 16,
   "id": "96c95cb1-fe6f-4cff-8814-a71dbedd4f8d",
   "metadata": {
    "collapsed": true,
    "jupyter": {
     "outputs_hidden": true
    }
   },
   "outputs": [
    {
     "name": "stdout",
     "output_type": "stream",
     "text": [
      "\n",
      "First 5 rows of the Event:\n",
      "  safetyreportid  transmissiondateformat  transmissiondate  serious  \\\n",
      "0      5801206-7                     102          20090109        1   \n",
      "1       10003300                     102          20141002        1   \n",
      "2       10003301                     102          20141002        1   \n",
      "3       10003302                     102          20141002        2   \n",
      "4       10003304                     102          20141212        2   \n",
      "\n",
      "   seriousnessdeath  receivedateformat  receivedate  receiptdateformat  \\\n",
      "0               1.0                102     20080707                102   \n",
      "1               NaN                102     20140306                102   \n",
      "2               NaN                102     20140228                102   \n",
      "3               NaN                102     20140312                102   \n",
      "4               NaN                102     20140312                102   \n",
      "\n",
      "   receiptdate  fulfillexpeditecriteria  ... reporttype seriousnessdisabling  \\\n",
      "0     20080625                        1  ...        NaN                  NaN   \n",
      "1     20140306                        2  ...        1.0                  1.0   \n",
      "2     20140228                        2  ...        1.0                  NaN   \n",
      "3     20140312                        2  ...        1.0                  NaN   \n",
      "4     20140424                        2  ...        1.0                  NaN   \n",
      "\n",
      "  duplicate                                    reportduplicate  \\\n",
      "0       NaN                                                NaN   \n",
      "1       1.0  {'duplicatesource': 'GENENTECH', 'duplicatenum...   \n",
      "2       1.0  {'duplicatesource': 'JANSSEN', 'duplicatenumb'...   \n",
      "3       1.0  {'duplicatesource': 'PFIZER', 'duplicatenumb':...   \n",
      "4       1.0  {'duplicatesource': 'PFIZER', 'duplicatenumb':...   \n",
      "\n",
      "  seriousnessother  occurcountry seriousnesshospitalization  \\\n",
      "0              NaN           NaN                        NaN   \n",
      "1              NaN           NaN                        NaN   \n",
      "2              1.0           NaN                        NaN   \n",
      "3              NaN            US                        NaN   \n",
      "4              NaN            US                        NaN   \n",
      "\n",
      "   seriousnesslifethreatening  seriousnesscongenitalanomali  authoritynumb  \n",
      "0                         NaN                           NaN            NaN  \n",
      "1                         NaN                           NaN            NaN  \n",
      "2                         NaN                           NaN            NaN  \n",
      "3                         NaN                           NaN            NaN  \n",
      "4                         NaN                           NaN            NaN  \n",
      "\n",
      "[5 rows x 27 columns]\n"
     ]
    }
   ],
   "source": [
    "# Display the first 5 rows to verify the data\n",
    "print(\"\\nFirst 5 rows of the Event:\")\n",
    "print(event_df.head())"
   ]
  },
  {
   "cell_type": "code",
   "execution_count": 17,
   "id": "ca2191c2-2154-4db8-98ff-e92b0884e607",
   "metadata": {},
   "outputs": [
    {
     "name": "stdout",
     "output_type": "stream",
     "text": [
      "\n",
      "DataFrame Info:\n",
      "<class 'pandas.core.frame.DataFrame'>\n",
      "RangeIndex: 5000 entries, 0 to 4999\n",
      "Columns: 128 entries, effective_time to statement_of_identity_table\n",
      "dtypes: int64(2), object(126)\n",
      "memory usage: 4.9+ MB\n"
     ]
    }
   ],
   "source": [
    "# Display a summary of the DataFrame (columns, data types, non-null counts)\n",
    "print(\"\\nDataFrame Info:\")\n",
    "label_df.info()"
   ]
  },
  {
   "cell_type": "code",
   "execution_count": 18,
   "id": "9cacd78d-4108-42fb-8d35-0a90ffa521f0",
   "metadata": {
    "collapsed": true,
    "jupyter": {
     "outputs_hidden": true
    }
   },
   "outputs": [
    {
     "name": "stdout",
     "output_type": "stream",
     "text": [
      "\n",
      "DataFrame Info:\n",
      "<class 'pandas.core.frame.DataFrame'>\n",
      "RangeIndex: 5000 entries, 0 to 4999\n",
      "Data columns (total 27 columns):\n",
      " #   Column                        Non-Null Count  Dtype  \n",
      "---  ------                        --------------  -----  \n",
      " 0   safetyreportid                5000 non-null   object \n",
      " 1   transmissiondateformat        5000 non-null   int64  \n",
      " 2   transmissiondate              5000 non-null   int64  \n",
      " 3   serious                       5000 non-null   int64  \n",
      " 4   seriousnessdeath              377 non-null    float64\n",
      " 5   receivedateformat             5000 non-null   int64  \n",
      " 6   receivedate                   5000 non-null   int64  \n",
      " 7   receiptdateformat             5000 non-null   int64  \n",
      " 8   receiptdate                   5000 non-null   int64  \n",
      " 9   fulfillexpeditecriteria       5000 non-null   int64  \n",
      " 10  companynumb                   4918 non-null   object \n",
      " 11  primarysource                 5000 non-null   object \n",
      " 12  sender                        5000 non-null   object \n",
      " 13  receiver                      4999 non-null   object \n",
      " 14  patient                       5000 non-null   object \n",
      " 15  safetyreportversion           4999 non-null   float64\n",
      " 16  primarysourcecountry          4991 non-null   object \n",
      " 17  reporttype                    4999 non-null   float64\n",
      " 18  seriousnessdisabling          109 non-null    float64\n",
      " 19  duplicate                     4915 non-null   float64\n",
      " 20  reportduplicate               4915 non-null   object \n",
      " 21  seriousnessother              1455 non-null   float64\n",
      " 22  occurcountry                  4795 non-null   object \n",
      " 23  seriousnesshospitalization    977 non-null    float64\n",
      " 24  seriousnesslifethreatening    119 non-null    float64\n",
      " 25  seriousnesscongenitalanomali  26 non-null     float64\n",
      " 26  authoritynumb                 8 non-null      object \n",
      "dtypes: float64(9), int64(8), object(10)\n",
      "memory usage: 1.0+ MB\n"
     ]
    }
   ],
   "source": [
    "# Display a summary of the DataFrame (columns, data types, non-null counts)\n",
    "print(\"\\nDataFrame Info:\")\n",
    "event_df.info()"
   ]
  },
  {
   "cell_type": "code",
   "execution_count": null,
   "id": "196d2f54-dfca-4a9a-b176-de6245304d15",
   "metadata": {},
   "outputs": [],
   "source": []
  }
 ],
 "metadata": {
  "kernelspec": {
   "display_name": "Python 3 (ipykernel)",
   "language": "python",
   "name": "python3"
  },
  "language_info": {
   "codemirror_mode": {
    "name": "ipython",
    "version": 3
   },
   "file_extension": ".py",
   "mimetype": "text/x-python",
   "name": "python",
   "nbconvert_exporter": "python",
   "pygments_lexer": "ipython3",
   "version": "3.13.7"
  }
 },
 "nbformat": 4,
 "nbformat_minor": 5
}
