{
 "cells": [
  {
   "cell_type": "code",
   "execution_count": 2,
   "id": "585a92a9-f77f-4805-980c-3c004904ccdc",
   "metadata": {},
   "outputs": [],
   "source": [
    "import requests\n",
    "import json\n",
    "import time\n",
    "from tqdm import tqdm\n"
   ]
  },
  {
   "cell_type": "code",
   "execution_count": 7,
   "id": "48f9c6fc-c693-4a2a-8720-1e69f4f0e2e9",
   "metadata": {},
   "outputs": [],
   "source": [
    "def download_all_fda_data(output_filename=\"enforcement_drug.json\", max_results=5000):\n",
    "    \"\"\"\n",
    "    Downloads all available drug label data from the openFDA API using pagination.\n",
    "    \n",
    "    Args:\n",
    "        output_filename (str): The name of the file to save the JSON data.\n",
    "        max_results (int): The approximate maximum number of records to download.\n",
    "                           Set to a lower number for testing (e.g., 500).\n",
    "    \"\"\"\n",
    "    API_URL = \"https://api.fda.gov/drug/enforcement.json\"\n",
    "    LIMIT = 100  # Max limit per request is 100\n",
    "    skip = 0\n",
    "    \n",
    "    all_drug_data = []\n",
    "    \n",
    "    # Get the total number of records to set up the progress bar\n",
    "    try:\n",
    "        total_response = requests.get(f\"{API_URL}?limit=1\")\n",
    "        total = total_response.json()['meta']['results']['total']\n",
    "        print(f\"Total records available in the API: {total}\")\n",
    "        # Use the smaller of the API total or the user-defined max_results\n",
    "        records_to_fetch = min(total, max_results)\n",
    "    except Exception as e:\n",
    "        print(f\"Could not determine total records. Error: {e}\")\n",
    "        records_to_fetch = max_results\n",
    "    \n",
    "    with tqdm(total=records_to_fetch, desc=\"Downloading FDA Data\") as pbar:\n",
    "        while skip < records_to_fetch:\n",
    "            params = {\n",
    "                \"limit\": LIMIT,\n",
    "                \"skip\": skip\n",
    "            }\n",
    "            \n",
    "            try:\n",
    "                response = requests.get(API_URL, params=params)\n",
    "                response.raise_for_status()\n",
    "                data = response.json()\n",
    "                \n",
    "                if \"results\" in data and len(data[\"results\"]) > 0:\n",
    "                    batch_data = data[\"results\"]\n",
    "                    all_drug_data.extend(batch_data)\n",
    "                    pbar.update(len(batch_data))\n",
    "                    skip += LIMIT\n",
    "                else:\n",
    "                    # No more results to fetch\n",
    "                    print(\"\\nNo more results found. Ending download.\")\n",
    "                    break\n",
    "                \n",
    "                # Be polite to the API\n",
    "                time.sleep(0.1)\n",
    "\n",
    "            except requests.exceptions.HTTPError as http_err:\n",
    "                print(f\"\\nHTTP error occurred: {http_err}. Stopping.\")\n",
    "                break\n",
    "            except Exception as err:\n",
    "                print(f\"\\nAn error occurred: {err}. Stopping.\")\n",
    "                break\n",
    "\n",
    "    # Save the collected data to a file\n",
    "    print(f\"\\nSaving {len(all_drug_data)} records to {output_filename}...\")\n",
    "    with open(output_filename, \"w\") as f:\n",
    "        json.dump(all_drug_data, f, indent=4)\n",
    "        \n",
    "    print(f\"✅ Download complete. Data saved to {output_filename}.\")\n"
   ]
  },
  {
   "cell_type": "code",
   "execution_count": 8,
   "id": "eb398b31-7459-4c01-ba85-0e75f1491807",
   "metadata": {},
   "outputs": [
    {
     "name": "stdout",
     "output_type": "stream",
     "text": [
      "Total records available in the API: 17134\n"
     ]
    },
    {
     "name": "stderr",
     "output_type": "stream",
     "text": [
      "Downloading FDA Data: 100%|█████████████████| 5000/5000 [01:04<00:00, 77.16it/s]\n"
     ]
    },
    {
     "name": "stdout",
     "output_type": "stream",
     "text": [
      "\n",
      "Saving 5000 records to enforcement_drug.json...\n",
      "✅ Download complete. Data saved to enforcement_drug.json.\n"
     ]
    }
   ],
   "source": [
    "if __name__ == \"__main__\":\n",
    "    # You can set a max_results limit to avoid downloading millions of records.\n",
    "    # For a full download, you might remove this limit, but be aware it will be a very large file.\n",
    "    download_all_fda_data(max_results=5000)"
   ]
  },
  {
   "cell_type": "code",
   "execution_count": null,
   "id": "84e46224-3bbd-449e-9859-c8a017a1a39e",
   "metadata": {},
   "outputs": [],
   "source": []
  }
 ],
 "metadata": {
  "kernelspec": {
   "display_name": "Python 3 (ipykernel)",
   "language": "python",
   "name": "python3"
  },
  "language_info": {
   "codemirror_mode": {
    "name": "ipython",
    "version": 3
   },
   "file_extension": ".py",
   "mimetype": "text/x-python",
   "name": "python",
   "nbconvert_exporter": "python",
   "pygments_lexer": "ipython3",
   "version": "3.13.7"
  }
 },
 "nbformat": 4,
 "nbformat_minor": 5
}
